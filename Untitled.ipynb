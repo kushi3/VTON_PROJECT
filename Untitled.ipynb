{
 "cells": [
  {
   "cell_type": "code",
   "execution_count": 1,
   "id": "5f03124e",
   "metadata": {},
   "outputs": [
    {
     "name": "stdout",
     "output_type": "stream",
     "text": [
      "Note: you may need to restart the kernel to use updated packages.\n"
     ]
    },
    {
     "name": "stderr",
     "output_type": "stream",
     "text": [
      "ERROR: Could not find a version that satisfies the requirement torch==0.4.1\n",
      "ERROR: No matching distribution found for torch==0.4.1\n"
     ]
    }
   ],
   "source": [
    "pip install "
   ]
  },
  {
   "cell_type": "code",
   "execution_count": 4,
   "id": "9e332533",
   "metadata": {},
   "outputs": [
    {
     "name": "stdout",
     "output_type": "stream",
     "text": [
      "Namespace(batch_size=4, checkpoint='', checkpoint_dir='checkpoints', data_list='train_pairs.txt', datamode='train', dataroot='data', decay_step=100000, display_count=20, fine_height=256, fine_width=192, gpu_ids='', grid_size=5, keep_step=100000, lr=0.0001, name='GMM', radius=5, save_count=5000, shuffle=True, stage='GMM', tensorboard_dir='tensorboard', workers=4)\n"
     ]
    },
    {
     "name": "stderr",
     "output_type": "stream",
     "text": [
      "Traceback (most recent call last):\n",
      "  File \"train.py\", line 232, in <module>\n",
      "    main()\n",
      "  File \"train.py\", line 210, in main\n",
      "    model = GMM(opt)\n",
      "  File \"C:\\Users\\sushanth\\Downloads\\Virtual Try-On Github Files\\cp-vton-plus-master\\networks.py\", line 512, in __init__\n",
      "    self.regression = FeatureRegression(\n",
      "  File \"C:\\Users\\sushanth\\Downloads\\Virtual Try-On Github Files\\cp-vton-plus-master\\networks.py\", line 129, in __init__\n",
      "    self.conv.cuda()\n",
      "  File \"C:\\Users\\sushanth\\anaconda3\\lib\\site-packages\\torch\\nn\\modules\\module.py\", line 637, in cuda\n",
      "    return self._apply(lambda t: t.cuda(device))\n",
      "  File \"C:\\Users\\sushanth\\anaconda3\\lib\\site-packages\\torch\\nn\\modules\\module.py\", line 530, in _apply\n",
      "    module._apply(fn)\n",
      "  File \"C:\\Users\\sushanth\\anaconda3\\lib\\site-packages\\torch\\nn\\modules\\module.py\", line 552, in _apply\n",
      "    param_applied = fn(param)\n",
      "  File \"C:\\Users\\sushanth\\anaconda3\\lib\\site-packages\\torch\\nn\\modules\\module.py\", line 637, in <lambda>\n",
      "    return self._apply(lambda t: t.cuda(device))\n",
      "  File \"C:\\Users\\sushanth\\anaconda3\\lib\\site-packages\\torch\\cuda\\__init__.py\", line 172, in _lazy_init\n",
      "    torch._C._cuda_init()\n",
      "RuntimeError: Found no NVIDIA driver on your system. Please check that you have an NVIDIA GPU and installed a driver from http://www.nvidia.com/Download/index.aspx\n"
     ]
    },
    {
     "name": "stdout",
     "output_type": "stream",
     "text": [
      "Start to train stage: GMM, named: GMM!\n",
      "initialization method [normal]\n",
      "initialization method [normal]\n"
     ]
    }
   ],
   "source": [
    "python train.py --name GMM --stage GMM --workers 4 --save_count 5000 --shuffle"
   ]
  },
  {
   "cell_type": "code",
   "execution_count": null,
   "id": "124b1508",
   "metadata": {},
   "outputs": [],
   "source": []
  }
 ],
 "metadata": {
  "kernelspec": {
   "display_name": "Python 3",
   "language": "python",
   "name": "python3"
  },
  "language_info": {
   "codemirror_mode": {
    "name": "ipython",
    "version": 3
   },
   "file_extension": ".py",
   "mimetype": "text/x-python",
   "name": "python",
   "nbconvert_exporter": "python",
   "pygments_lexer": "ipython3",
   "version": "3.8.8"
  }
 },
 "nbformat": 4,
 "nbformat_minor": 5
}
